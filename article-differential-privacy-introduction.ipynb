{
 "cells": [
  {
   "cell_type": "markdown",
   "metadata": {
    "slideshow": {
     "slide_type": "slide"
    }
   },
   "source": [
    "# Differential Privacy Introduction"
   ]
  },
  {
   "cell_type": "markdown",
   "metadata": {
    "slideshow": {
     "slide_type": "slide"
    }
   },
   "source": [
    "This document illustrates the basic and essential concepts and features associated with differential privacy (DP) by considering an example use case drawn from the advertising technology domain. This example simplifies many details and is inspired by an [Ad Tech Explained article](https://adtechexplained.com/interoperable-private-attribution-ipa-explained/)."
   ]
  },
  {
   "cell_type": "markdown",
   "metadata": {
    "slideshow": {
     "slide_type": "slide"
    }
   },
   "source": [
    "## Dependencies"
   ]
  },
  {
   "cell_type": "markdown",
   "metadata": {
    "slideshow": {
     "slide_type": "slide"
    }
   },
   "source": [
    "The code blocks in this document rely on [Matplotlib](https://matplotlib.org/) and [NumPy](https://numpy.org/)."
   ]
  },
  {
   "cell_type": "code",
   "execution_count": 1,
   "metadata": {},
   "outputs": [],
   "source": [
    "import matplotlib.pyplot as plt\n",
    "import numpy as np"
   ]
  },
  {
   "cell_type": "markdown",
   "metadata": {
    "slideshow": {
     "slide_type": "slide"
    }
   },
   "source": [
    "## Example Use Case: Attribution in Digital Advertising"
   ]
  },
  {
   "cell_type": "markdown",
   "metadata": {
    "slideshow": {
     "slide_type": "slide"
    }
   },
   "source": [
    "In this example, a **publisher** operates a website on which users view content after logging in using their email address. This website also displays advertisements from a **vendor**. The publisher records **source events** (impressions and clicks) associated with each email address.\n",
    "\n",
    "When a user clicks an advertisement, they visit the vendor's website can have the option to log in with their email address and make a purchase. The vendor website records **trigger events**: purchases of products associated with a user's email address.\n",
    "\n",
    "![Digital advertising attribution workflow diagram.](advertising-attribution-workflow-diagram.png)"
   ]
  },
  {
   "cell_type": "markdown",
   "metadata": {
    "slideshow": {
     "slide_type": "slide"
    }
   },
   "source": [
    "Source and trigger events are submitted to an **attribution service** that matches them up by email address. This can be either a trusted service such as a clean room or an ensemble of organizations running a secure multi-party computation protocol (as in the [Interoperable Private Attribution](https://eprint.iacr.org/2023/437) protocol). The exact manner in which this is accomplished is not important for understanding the basics of DP (but any such organization or infrastructure can support DP queries against the matched data)."
   ]
  },
  {
   "cell_type": "markdown",
   "metadata": {
    "slideshow": {
     "slide_type": "slide"
    }
   },
   "source": [
    "## Querying and Risks"
   ]
  },
  {
   "cell_type": "markdown",
   "metadata": {
    "slideshow": {
     "slide_type": "slide"
    }
   },
   "source": [
    "A publisher might select a **set of recorded source events** and request the **count of conversion events** from the attribution service. Define a *query* $Q$ from the publisher to be a set of source event identifiers. Define a *reply* from an attribution service to be a count (which may be approximate) of the total number of matching conversion events."
   ]
  },
  {
   "cell_type": "code",
   "execution_count": 2,
   "metadata": {},
   "outputs": [],
   "source": [
    "trigger_events = {\n",
    "    'alice@web.com',\n",
    "    'bob@web.com',\n",
    "    'carla@web.com',\n",
    "    'dan@web.com',\n",
    "    'eve@web.com',\n",
    "    'frank@web.com',\n",
    "    'gina@web.com'\n",
    "}\n",
    "\n",
    "def attribution_service(query):\n",
    "    return sum([1 for e in trigger_events if e in query])"
   ]
  },
  {
   "cell_type": "markdown",
   "metadata": {
    "slideshow": {
     "slide_type": "slide"
    }
   },
   "source": [
    "If the publisher is allowed to make any number of queries of any size to the attribution service, they could submit queries containing individual source event records to learn exactly which individual users' clicks led to conversions (and, potentially, the those individual users' interests and purchasing history).\n",
    "\n",
    "Even with a limited number of queries, the publisher could submit two queries $Q_1$ and $Q_2$ that differ by exactly one record $\\langle\\texttt{alice@example.com}, ...\\rangle$. The difference between the two replies can then reveal whether Alice's individual click led to a conversion."
   ]
  },
  {
   "cell_type": "code",
   "execution_count": 3,
   "metadata": {},
   "outputs": [
    {
     "name": "stdout",
     "output_type": "stream",
     "text": [
      "3\n",
      "2\n"
     ]
    }
   ],
   "source": [
    "trigger_events = {\n",
    "    'alice@web.com',\n",
    "    'bob@web.com',\n",
    "    'carla@web.com',\n",
    "    'dan@web.com',\n",
    "    'eve@web.com',\n",
    "    'frank@web.com',\n",
    "    'gina@web.com'\n",
    "}\n",
    "\n",
    "def attribution_service(query):\n",
    "    return sum([1 for e in trigger_events if e in query])\n",
    "\n",
    "print(attribution_service({'alice@web.com', 'bob@web.com', 'carla@web.com'}))\n",
    "print(attribution_service({'bob@web.com', 'carla@web.com'}))"
   ]
  },
  {
   "cell_type": "code",
   "execution_count": 63,
   "metadata": {},
   "outputs": [
    {
     "data": {
      "image/png": "[encoded data removed]",
      "text/plain": [
       "<Figure size 432x288 with 1 Axes>"
      ]
     },
     "metadata": {
      "needs_background": "light"
     },
     "output_type": "display_data"
    }
   ],
   "source": [
    "plt.hist([\n",
    "    attribution_service({'alice@web.com', 'bob@web.com', 'carla@web.com'})\n",
    "    for _ in range(10000)\n",
    "])\n",
    "plt.xticks(np.arange(0, 4, step=1))\n",
    "plt.show()"
   ]
  },
  {
   "cell_type": "markdown",
   "metadata": {
    "slideshow": {
     "slide_type": "slide"
    }
   },
   "source": [
    "Below, we plot the possible differences for this basic version of the service. Unsurprisingly, the difference is always the same."
   ]
  },
  {
   "cell_type": "code",
   "execution_count": 4,
   "metadata": {},
   "outputs": [
    {
     "data": {
      "image/png": "[encoded data removed]",
      "text/plain": [
       "<Figure size 432x288 with 1 Axes>"
      ]
     },
     "metadata": {
      "needs_background": "light"
     },
     "output_type": "display_data"
    }
   ],
   "source": [
    "def diffs(n):\n",
    "    return [\n",
    "        (\n",
    "            attribution_service({'alice@web.com', 'bob@web.com', 'carla@web.com'})\n",
    "            -\n",
    "            attribution_service({'bob@web.com', 'carla@web.com'})\n",
    "        )\n",
    "        for _ in range(n)\n",
    "    ]\n",
    "\n",
    "plt.hist(diffs(10000))\n",
    "plt.xticks(np.arange(0, 4, step=1))\n",
    "plt.show() "
   ]
  },
  {
   "cell_type": "markdown",
   "metadata": {
    "slideshow": {
     "slide_type": "slide"
    }
   },
   "source": [
    "## Differentially Private Aggregation"
   ]
  },
  {
   "cell_type": "markdown",
   "metadata": {
    "slideshow": {
     "slide_type": "slide"
    }
   },
   "source": [
    "To address the publisher's ability to learn about its individual users' conversion histories, the attribution service can instead return *differentially private* counts in its replies."
   ]
  },
  {
   "cell_type": "markdown",
   "metadata": {
    "slideshow": {
     "slide_type": "slide"
    }
   },
   "source": [
    "As an example, suppose that instead of returning $1$ for every trigger event that is found in the query, the attribution service returns $1$ with a $60\\%$ probability and $0$ with a $40\\%$ probability."
   ]
  },
  {
   "cell_type": "code",
   "execution_count": 5,
   "metadata": {},
   "outputs": [],
   "source": [
    "from random import choice\n",
    "\n",
    "def attribution_service(query):\n",
    "    return sum([choice([1, 1, 1, 0, 0]) for e in trigger_events if e in query])"
   ]
  },
  {
   "cell_type": "markdown",
   "metadata": {
    "slideshow": {
     "slide_type": "slide"
    }
   },
   "source": [
    "In this case, the same queries do not yield the same result every time. The distribution of results for $10,000$ instances of the query `{'alice@web.com', 'bob@web.com', 'carla@web.com'}` is plotted below."
   ]
  },
  {
   "cell_type": "code",
   "execution_count": 6,
   "metadata": {},
   "outputs": [
    {
     "data": {
      "image/png": "[encoded data removed]",
      "text/plain": [
       "<Figure size 432x288 with 1 Axes>"
      ]
     },
     "metadata": {
      "needs_background": "light"
     },
     "output_type": "display_data"
    }
   ],
   "source": [
    "plt.hist([\n",
    "    attribution_service({'alice@web.com', 'bob@web.com', 'carla@web.com'})\n",
    "    for _ in range(10000)\n",
    "])\n",
    "plt.xticks(np.arange(0, 4, step=1))\n",
    "plt.show() "
   ]
  },
  {
   "cell_type": "markdown",
   "metadata": {
    "slideshow": {
     "slide_type": "slide"
    }
   },
   "source": [
    "However, with enough pairs of queries, the difference becomes easier to discern."
   ]
  },
  {
   "cell_type": "code",
   "execution_count": 7,
   "metadata": {},
   "outputs": [
    {
     "data": {
      "image/png": "[encoded data removed]",
      "text/plain": [
       "<Figure size 432x288 with 2 Axes>"
      ]
     },
     "metadata": {
      "needs_background": "light"
     },
     "output_type": "display_data"
    }
   ],
   "source": [
    "(fig, axs) = plt.subplots(1, 2, sharey=False, tight_layout=True)\n",
    "_ = axs[0].hist(diffs(5))\n",
    "_ = axs[1].hist(diffs(10000))"
   ]
  },
  {
   "cell_type": "markdown",
   "metadata": {
    "slideshow": {
     "slide_type": "slide"
    }
   },
   "source": [
    "We can aggregate how often each possible difference appears when only $5$ pairs of queries are allowed vs. when $10000$ pairs of queries are allowed."
   ]
  },
  {
   "cell_type": "code",
   "execution_count": 8,
   "metadata": {},
   "outputs": [
    {
     "name": "stderr",
     "output_type": "stream",
     "text": [
      "100%|██████████████████████████████████████████████████████████████████████████████████████████████████████████████████████████████████████████████████████████████████| 100/100 [00:00<00:00, 53396.61it/s]\n",
      "100%|█████████████████████████████████████████████████████████████████████████████████████████████████████████████████████████████████████████████████████████████████████| 100/100 [00:01<00:00, 50.53it/s]\n"
     ]
    },
    {
     "data": {
      "image/png": "[encoded data removed]",
      "text/plain": [
       "<Figure size 432x288 with 2 Axes>"
      ]
     },
     "metadata": {
      "needs_background": "light"
     },
     "output_type": "display_data"
    }
   ],
   "source": [
    "from collections import Counter\n",
    "from tqdm import tqdm\n",
    "\n",
    "def diff_counts(n):\n",
    "    counts = []\n",
    "    for _ in tqdm(range(100)):\n",
    "        c = Counter(diffs(n)).most_common()[0][0]\n",
    "        counts.append(c)\n",
    "    return counts\n",
    "\n",
    "(fig, axs) = plt.subplots(1, 2, sharey=False, tight_layout=True)\n",
    "_ = axs[0].hist(diff_counts(5))\n",
    "_ = axs[1].hist(diff_counts(10000))"
   ]
  }
 ],
 "metadata": {
  "anaconda-cloud": {},
  "celltoolbar": "Slideshow",
  "kernelspec": {
   "display_name": "Python 3 (ipykernel)",
   "language": "python",
   "name": "python3"
  },
  "language_info": {
   "codemirror_mode": {
    "name": "ipython",
    "version": 3
   },
   "file_extension": ".py",
   "mimetype": "text/x-python",
   "name": "python",
   "nbconvert_exporter": "python",
   "pygments_lexer": "ipython3",
   "version": "3.10.2"
  }
 },
 "nbformat": 4,
 "nbformat_minor": 1
}
